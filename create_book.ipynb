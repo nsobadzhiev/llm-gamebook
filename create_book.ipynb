{
 "cells": [
  {
   "cell_type": "markdown",
   "metadata": {},
   "source": [
    "# Creating an interactive gamebook\n",
    "\n",
    "## What is a gamebook\n",
    "\n",
    "This might a relic of the past, but in the past there were (mostly fantasy) book that were telling a story while also being interactive and letting you choose your own adventure. It was like a DnD, but for only one player.\n",
    "\n",
    "They worked the following way:\n",
    "You were reading the book like you would normally, but every couple of sentences or paragraphs, you'd have to make a choice how to continue. The choice involved two things. Each choice would lead you to a different page or paragraph of the book. Something like \"If you want to go through the door, go to 43. If you want to try your luck with the staircase, go to 182\". Additionally, there could be an element of luck. There, you'd roll dice and see if you manage to avoid some obstacle. Many books also include a simple class and/or abilities system, where you choose what kind of character you want to be. You might choose to be a warrior or a sorcerer. Or you might put most of the skill point to intelligence and agility, as opposed to strength. These traits would influence the results of your dice rolls. "
   ]
  },
  {
   "cell_type": "code",
   "execution_count": null,
   "metadata": {},
   "outputs": [],
   "source": [
    "!python -m pip install -r requirements.txt"
   ]
  },
  {
   "cell_type": "markdown",
   "metadata": {},
   "source": [
    "## Getting gamebooks\n",
    "\n",
    "Example game books are not included in this repository for licensing reasons. You have to supply your own.\n",
    "These can be bought, although it might theoretically be a problem with DRM-protected books.\n",
    "\n",
    "### Some free options\n",
    "\n",
    "The gamebook genre is not as popular as other categories, but you CAN find a number of them onlines. Additionally, you can get your hands on some really good amateur ones that you can download for free. These are a very good start.\n",
    "\n",
    "I got some from the [Fighting Fantasy project](http://www.ffproject.com/download.htm)\n",
    "\n",
    "### Using a downloaded book\n",
    "\n",
    "After you download a book, you can put it in the `gamebooks` folder. To start using it in this playbook, set its path into the `gamebook_pdf_path` variable (currently only works with PDFs)."
   ]
  },
  {
   "cell_type": "markdown",
   "metadata": {},
   "source": [
    "## Reading the gamebook\n",
    "\n",
    "We will accept gamebooks as pdf or text file. We will read the text inside and try to understand how the game works"
   ]
  },
  {
   "cell_type": "code",
   "execution_count": null,
   "metadata": {},
   "outputs": [],
   "source": [
    "gamebook_pdf_path = 'gamebooks/PHOBIA.pdf'"
   ]
  },
  {
   "cell_type": "code",
   "execution_count": null,
   "metadata": {},
   "outputs": [],
   "source": [
    "# Add knowledgebase from a PDF\n",
    "\n",
    "from extract_pdf import extract_page_texts\n",
    "texts = extract_page_texts(gamebook_pdf_path)\n",
    "texts[:6]"
   ]
  },
  {
   "cell_type": "markdown",
   "metadata": {},
   "source": [
    "### Create a LLM object\n",
    "\n",
    "Beyond this point in the notebook, we will start using LLMs, which means we have to finally initialize DSPy and speficy some parameters\n",
    "\n",
    "#### Local LLM\n",
    "\n",
    "To make things ~simpler~ cheaper, let's use a locallly running LLM. Ollama is an excellent choice. Make sure it's running and it is setup with a some model.\n",
    "\n",
    "The model we will be using here is Mistral. You are free to change it to another one that you like.\n",
    "\n",
    "#### Retrieval\n",
    "\n",
    "Although not strictly necessary here, we will also setup a locally running ChromaDB, in case we decide to use some embeddings"
   ]
  },
  {
   "cell_type": "code",
   "execution_count": null,
   "metadata": {},
   "outputs": [],
   "source": [
    "import dspy\n",
    "\n",
    "import dspy\n",
    "from dspy.retrieve.chromadb_rm import ChromadbRM\n",
    "from chromadb.utils.embedding_functions import DefaultEmbeddingFunction\n",
    "\n",
    "chroma_dir = './chroma'\n",
    "chroma_collection = 'book_data'\n",
    "\n",
    "chroma_rm = ChromadbRM(\n",
    "    collection_name=chroma_collection,\n",
    "    persist_directory=chroma_dir,\n",
    "    embedding_function=DefaultEmbeddingFunction(),\n",
    "    k=3,\n",
    ")\n",
    "\n",
    "mistral_ollama = dspy.OllamaLocal(\n",
    "    model='mistral',\n",
    "    max_tokens=1000,\n",
    ")\n",
    "dspy.configure(\n",
    "    lm=mistral_ollama,\n",
    "    rm=chroma_rm\n",
    ")\n"
   ]
  },
  {
   "cell_type": "markdown",
   "metadata": {},
   "source": [
    "## Understanding the game rules\n",
    "\n",
    "Most books have similar rules, but they DO usually differ a tiny bit. The most important thing is to understand if the protagonist has any stats or abilities to setup before beginning the game."
   ]
  },
  {
   "cell_type": "code",
   "execution_count": null,
   "metadata": {},
   "outputs": [],
   "source": [
    "# Ask an LLM to explain the game ruled based on the initial few pages\n",
    "\n",
    "class BookRulesSignature(dspy.Signature):\n",
    "    \"\"\"The following context describes how to play a game. Can you summarize the rules and tell me the input parameters it has?\"\"\"\n",
    "\n",
    "    context = dspy.InputField(desc=\"The first few pages of the book\")\n",
    "    answer = dspy.OutputField()\n",
    "\n",
    "\n",
    "class BookRules(dspy.Module):\n",
    "    def __init__(self, pages: list[str], num_pages=6):\n",
    "        super().__init__()\n",
    "\n",
    "        self.context = '\\n'.join(pages[:num_pages])\n",
    "        self.generate_answer = dspy.ChainOfThought(BookRulesSignature)\n",
    "    \n",
    "    def forward(self) -> dspy.Prediction:\n",
    "        prediction = self.generate_answer(context=self.context)\n",
    "        return dspy.Prediction(context=self.context, answer=prediction.answer)"
   ]
  },
  {
   "cell_type": "code",
   "execution_count": null,
   "metadata": {},
   "outputs": [],
   "source": [
    "# get the rules\n",
    "rule_generator = BookRules(texts)\n",
    "prediction = rule_generator.forward()\n",
    "prediction.answer"
   ]
  },
  {
   "cell_type": "markdown",
   "metadata": {},
   "source": [
    "#### Alternative - hardcoded rules\n",
    "\n",
    "Not all LLMs are created equal. For some, it's difficult to follow some instructions and they fail to provide good results.\n",
    "This was exactly the case with Mistral and the game instructions in this case. Since this is just a demonstration playbook, we can provide the option to hardcode the game rules.\n",
    "\n",
    "The rules you see below are the ones for a book called Phobia, which is available from the [Fighting Fantasy project](http://www.ffproject.com/download.htm).\n",
    "\n",
    "The following game rules are ones that were generated via OpenAI's chatGPT 3.5 Turbo. So you will get better results with the pipeline above if you use OpenAI, instead of Mistral."
   ]
  },
  {
   "cell_type": "code",
   "execution_count": null,
   "metadata": {},
   "outputs": [],
   "source": [
    "# save the game rules\n",
    "game_rules = '''\n",
    "Game Summary:\n",
    "\n",
    "Introduction:\n",
    "Players assume the role of a hero with a significant weakness—a deep-seated phobia.\n",
    "\n",
    "Rules:\n",
    "\n",
    "Stats: Players have four stats: Strength, Luck, Skill, and Fear. These stats range from 0 to 12.\n",
    "Stat Tests: Players roll two six-sided dice to test their stats. If the roll is less than or equal to the stat value, they pass; otherwise, they fail.\n",
    "Fear Tests: Fear tests are handled inversely; if the roll exceeds the fear score, it's a pass. Fear increases upon encountering frightening elements but decreases if calmed.\n",
    "Items: Players collect items during the adventure, each with specific rules detailed in relevant sections.\n",
    "Character Creation: Allocate 24 points among Strength, Luck, and Skill (max 10 per stat). Roll one die to determine initial fear. Choose a phobia from a list provided.\n",
    "Input Parameters:\n",
    "\n",
    "Strength: Points allocated (0-10)\n",
    "Luck: Points allocated (0-10)\n",
    "Skill: Points allocated (0-10)\n",
    "Initial Fear: Roll of one die\n",
    "Phobia: Selection from the provided list (Claustrophobia, Mysophobia, Zoophobia, Acrophobia, Nyctophobia, Aquaphobia)\n",
    "'''"
   ]
  },
  {
   "cell_type": "markdown",
   "metadata": {},
   "source": [
    "## Create a game run\n",
    "\n",
    "The game rules should include instructions how to generate a new chracter / game run. It probably involves setting up stats\n",
    "\n",
    "### Game stats\n",
    "\n",
    "It is quite usual for a gamebook to ask players to create a character using a point system. This point system has the player choose a numeric value for a number of character traits and abilities. Often times, the total amount of point is limited, so the player needs to prioritize some traits over others.\n",
    "\n",
    "### Creating stats\n",
    "\n",
    "We will create an LLM pipeline that takes the games rules and a player-provided string that explains in humna language what they want their character to look like."
   ]
  },
  {
   "cell_type": "code",
   "execution_count": null,
   "metadata": {},
   "outputs": [],
   "source": [
    "class GameRunSignature(dspy.Signature):\n",
    "    \"\"\"Based on the game rules in the context and the input form the player, write down all the necessary information to play the game\"\"\"\n",
    "\n",
    "    context = dspy.InputField(desc=\"The rules for playing the game\")\n",
    "    game_parameters = dspy.InputField(desc=\"Should contain the information required to setup a new game\")\n",
    "    answer = dspy.OutputField()\n",
    "\n",
    "\n",
    "class GameRun(dspy.Module):\n",
    "    def __init__(self, rules: str):\n",
    "        super().__init__()\n",
    "\n",
    "        self.rules = rules\n",
    "        self.generate_answer = dspy.ChainOfThought(GameRunSignature)\n",
    "    \n",
    "    def forward(self, input_parameters: str) -> dspy.Prediction:\n",
    "        prediction = self.generate_answer(context=self.rules, game_parameters=input_parameters)\n",
    "        return dspy.Prediction(context=self.rules, answer=prediction.answer)"
   ]
  },
  {
   "cell_type": "markdown",
   "metadata": {},
   "source": [
    "### Testing the character creation"
   ]
  },
  {
   "cell_type": "code",
   "execution_count": null,
   "metadata": {},
   "outputs": [],
   "source": [
    "user_answer_stats = \"I will have Claustrophobia, my Fear is 4, my Strength is 7, Luck 9 and Skill 8\"\n",
    "game_run_parameters = GameRun(game_rules)\n",
    "game_run = game_run_parameters.forward(user_answer_stats)\n",
    "game_run.answer"
   ]
  },
  {
   "cell_type": "markdown",
   "metadata": {},
   "source": [
    "## Parsing the book sections\n",
    "\n",
    "The main sections of game books are the snippets containing elements of the story. They are usually numbered and easy to find. However, each book might use a different convention for denoting them. A safer bet is to ask an LLM to do the splitting. The problem is that a book can easily be longer than the maximum context length that can be handled at once, so this needs to happen in chunks.\n",
    "\n",
    "We will iterate the book piece by piece and collect all snippets"
   ]
  },
  {
   "cell_type": "code",
   "execution_count": null,
   "metadata": {},
   "outputs": [],
   "source": [
    "# a page is too little, and it could be that a snippet spans beyond a single page.\n",
    "# we will use a semantic text splitter and chunks that are not page-bound\n",
    "\n",
    "# NOTE: this does not scale well - everything will be in-memory, several times\n",
    "all_text = '\\n\\n'.join(texts[5:])\n",
    "\n",
    "from semantic_text_splitter import TextSplitter\n",
    "\n",
    "# Maximum number of characters in a chunk\n",
    "max_characters = 2000\n",
    "# Optionally can also have the splitter not trim whitespace for you\n",
    "splitter = TextSplitter()\n",
    "\n",
    "chunks = splitter.chunks(all_text, max_characters)"
   ]
  },
  {
   "cell_type": "code",
   "execution_count": null,
   "metadata": {},
   "outputs": [],
   "source": [
    "class SnippetSplitSignature(dspy.Signature):\n",
    "    \"\"\"The provided context contains several numbered sections. The border between sections should be the different item numbers, serving as titles of the sections. Return a JSON array containing an object for each numbered paragraph with properties - the item number and its contents (don't change the contents)\"\"\"\n",
    "\n",
    "    context = dspy.InputField(desc=\"Text containing several numbered sections\")\n",
    "    answer = dspy.OutputField()\n",
    "\n",
    "\n",
    "class SnippetSplitRun(dspy.Module):\n",
    "    def __init__(self, paragrpahs: str):\n",
    "        super().__init__()\n",
    "\n",
    "        self.paragrpahs = paragrpahs\n",
    "        self.generate_answer = dspy.ChainOfThought(SnippetSplitSignature)\n",
    "    \n",
    "    def forward(self) -> dspy.Prediction:\n",
    "        prediction = self.generate_answer(context=self.paragrpahs)\n",
    "        return dspy.Prediction(context=self.paragrpahs, answer=prediction.answer)"
   ]
  },
  {
   "cell_type": "code",
   "execution_count": null,
   "metadata": {},
   "outputs": [],
   "source": [
    "for chunk in chunks:\n",
    "    split_run = SnippetSplitRun(chunk)\n",
    "    snippet_predition = split_run.forward()\n",
    "    print(snippet_predition.answer)"
   ]
  },
  {
   "cell_type": "markdown",
   "metadata": {},
   "source": [
    "### Hardcoded snippets\n",
    "\n",
    "Much like the game rules, some LLMs fail at properly splitting the book into game snippets. Since the split is usually not that difficult to do using a pure algorithmic approach, we will give that option here.\n",
    "\n",
    "Ofc, this way is not very flexible because it assumes the split between snippets is a number, followed by a line break.\n",
    "\n",
    "Feel free to try the split with a more powerful model, but do keep in mind this algorithm goes through the whole book chunk by chunk, which typically means a lot of tokens used, and therefore, higher costs."
   ]
  },
  {
   "cell_type": "code",
   "execution_count": null,
   "metadata": {},
   "outputs": [],
   "source": []
  },
  {
   "cell_type": "markdown",
   "metadata": {},
   "source": [
    "## Going through game steps\n",
    "\n",
    "Now this is going to the main part of the game. Based on the following input:\n",
    "* The current section in the game (a number if a paragraph in the book)\n",
    "* The Game instructions\n",
    "* The game run we generated (the set of stats)\n",
    "* Input string from the player, where they possibly make a choice how to continue\n",
    "\n",
    "We will create a new LLM pipeline that takes these inputs and determines how to continue the adventure. The output prediction of that pipeline will be one of the following:\n",
    "* The number of the next section to go to\n",
    "* Indication that the game is over\n",
    "\n",
    "For more complex steps, it could also involve:\n",
    "* Changing the game run (adding an item, changing a stat)"
   ]
  },
  {
   "cell_type": "code",
   "execution_count": null,
   "metadata": {},
   "outputs": [],
   "source": [
    "import dspy\n",
    "\n",
    "class GameStepSignature(dspy.Signature):\n",
    "    \"\"\"You are trying to determine the next step in following a gamebook. Based on the game instructions, last game step, game setup and the player's desired action, determine what happens next\"\"\"\n",
    "\n",
    "    game_instructions = dspy.InputField(desc=\"Rules of the game\")\n",
    "    last_game_step = dspy.InputField(desc=\"describes what just happened in the game story\")\n",
    "    game_setup = dspy.InputField(desc=\"Details of the current game run - player state and stats\")\n",
    "    player_action = dspy.InputField(desc=\"The decision of the player how to continue\")\n",
    "    next_step = dspy.OutputField(desc=\"Should be one of the following: number of the next step to go to, game_failed or game_finished\")\n",
    "    step_number = dspy.OutputField(desc=\"Should be a valid single number only - the next step to go to\")\n",
    "\n",
    "\n",
    "class GameStepRun(dspy.Module):\n",
    "    def __init__(self, instructions: str, step: str, setup: str, player_action: str):\n",
    "        super().__init__()\n",
    "\n",
    "        self.instructions = instructions\n",
    "        self.step = step\n",
    "        self.setup = setup\n",
    "        self.player_action = player_action\n",
    "        self.generate_answer = dspy.ChainOfThought(GameStepSignature)\n",
    "    \n",
    "    def forward(self) -> dspy.Prediction:\n",
    "        prediction = self.generate_answer(\n",
    "            game_instructions=self.instructions,\n",
    "            last_game_step=self.step,\n",
    "            game_setup=self.setup,\n",
    "            player_action=self.player_action\n",
    "        )\n",
    "        context = prediction.rationale if hasattr(prediction, 'rationale') else self.step\n",
    "        res = [int(i) for i in prediction.step_number.split() if i.isdigit()]\n",
    "        step = res[0] if len(res) > 0 else ''\n",
    "        return dspy.Prediction(context=context, answer=prediction.next_step, step=step)"
   ]
  },
  {
   "cell_type": "code",
   "execution_count": null,
   "metadata": {},
   "outputs": [],
   "source": [
    "current_step_num = 1\n",
    "stop_words = ['game_failed', 'game_finished']\n",
    "\n",
    "while True:\n",
    "    current_snippet = game_snippets[current_step_num - 1][1]\n",
    "    print(current_snippet)\n",
    "    player_answer = input('How would you like to continue: ')\n",
    "    step_run = GameStepRun(game_rules, current_snippet, game_run.answer, player_answer)\n",
    "    run_prediction = step_run.forward()\n",
    "    print(run_prediction)\n",
    "    print(run_prediction.answer)\n",
    "    try:\n",
    "        numeric_answer = int(run_prediction.step)\n",
    "    except ValueError:\n",
    "        numeric_answer = 0\n",
    "    if numeric_answer != 0 and numeric_answer < len(game_snippets):\n",
    "        current_step_num = numeric_answer\n",
    "    if run_prediction.answer in stop_words:\n",
    "        # It might not be immediately apparent why the game failed. Write the module's reasoning\n",
    "        print(run_prediction.context)\n",
    "        break;"
   ]
  }
 ],
 "metadata": {
  "kernelspec": {
   "display_name": ".venv",
   "language": "python",
   "name": "python3"
  },
  "language_info": {
   "codemirror_mode": {
    "name": "ipython",
    "version": 3
   },
   "file_extension": ".py",
   "mimetype": "text/x-python",
   "name": "python",
   "nbconvert_exporter": "python",
   "pygments_lexer": "ipython3",
   "version": "3.12.2"
  }
 },
 "nbformat": 4,
 "nbformat_minor": 2
}
